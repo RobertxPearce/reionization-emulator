{
 "cells": [
  {
   "metadata": {},
   "cell_type": "markdown",
   "source": "# Data Visualization Notebook",
   "id": "22815cc087454a0c"
  },
  {
   "cell_type": "code",
   "id": "131b1429-40ef-40dd-b762-a397a68084d0",
   "metadata": {
    "ExecuteTime": {
     "end_time": "2025-10-08T16:42:44.103222Z",
     "start_time": "2025-10-08T16:42:44.101214Z"
    }
   },
   "source": [
    "%matplotlib inline\n",
    "import h5py\n",
    "import numpy as np\n",
    "import matplotlib.pyplot as plt"
   ],
   "outputs": [],
   "execution_count": 41
  },
  {
   "metadata": {},
   "cell_type": "markdown",
   "source": "### Open *OBS Grids* and *PK Arrays*",
   "id": "b0f6a9a76d76c13b"
  },
  {
   "cell_type": "code",
   "id": "605b2377-7f22-4fa1-bb1b-4a449c474d66",
   "metadata": {
    "ExecuteTime": {
     "end_time": "2025-10-08T16:42:44.109954Z",
     "start_time": "2025-10-08T16:42:44.107776Z"
    }
   },
   "source": [
    "obs_grids = h5py.File(\"raw/simulations/sims_v0/sim0obs_grids.hdf5\", \"r\")\n",
    "pk_arrays = h5py.File(\"raw/simulations/sims_v0/sim0pk_arrays.hdf5\", \"r\")"
   ],
   "outputs": [],
   "execution_count": 42
  },
  {
   "metadata": {},
   "cell_type": "markdown",
   "source": "### Data Structure",
   "id": "9a685e096127b081"
  },
  {
   "cell_type": "code",
   "id": "dcdd5a21-741b-4e87-9ee2-1e544b86f62f",
   "metadata": {
    "ExecuteTime": {
     "end_time": "2025-10-08T16:42:44.117820Z",
     "start_time": "2025-10-08T16:42:44.115422Z"
    }
   },
   "source": [
    "print(\"OBS GRIDS\")\n",
    "print(\"Top-Level:\\n\", list(obs_grids.keys()))\n",
    "print(\"Data:\\n\", list(obs_grids[\"data\"].keys()))\n",
    "print(\"Header:\\n\", list(obs_grids[\"header\"].keys()))\n",
    "print(\"\")\n",
    "print(\"PK ARRAYS\")\n",
    "print(\"Top-Level:\\n\", list(pk_arrays.keys()))\n",
    "print(\"Data:\\n\", list(pk_arrays[\"data\"].keys()))\n",
    "print(\"Header:\\n\", list(pk_arrays[\"header\"].keys()))"
   ],
   "outputs": [
    {
     "name": "stdout",
     "output_type": "stream",
     "text": [
      "OBS GRIDS\n",
      "Top-Level:\n",
      " ['data', 'header']\n",
      "Data:\n",
      " ['gal_map', 'ksz_map', 't0vals', 't21_map', 'tau_map', 'xmval_list', 'xval_list', 'zval_list', 'zvals']\n",
      "Header:\n",
      " ['BoxSize', 'N_grid', 'OmegaB', 'OmegaL', 'OmegaM', 'OmegaR', 'Tcmb0', 'YHe', 'alpha_zre', 'b0_zre', 'hubble0', 'kb_zre', 'nsinit', 'sigma8', 'tau', 'theta_max_ksz', 'wde', 'zmean_zre']\n",
      "\n",
      "PK ARRAYS\n",
      "Top-Level:\n",
      " ['data', 'header']\n",
      "Data:\n",
      " ['pk_dd', 'pk_dx', 'pk_tt', 'pk_xx', 'vrms', 'xmval_list', 'xval_list', 'zval_list']\n",
      "Header:\n",
      " ['BoxSize', 'N_grid', 'OmegaB', 'OmegaL', 'OmegaM', 'OmegaR', 'Tcmb0', 'YHe', 'alpha_zre', 'b0_zre', 'hubble0', 'kb_zre', 'nsinit', 'sigma8', 'tau', 'theta_max_ksz', 'wde', 'zmean_zre']\n"
     ]
    }
   ],
   "execution_count": 43
  },
  {
   "metadata": {},
   "cell_type": "markdown",
   "source": "### Simulation Parameters",
   "id": "d8399eb4d01b4097"
  },
  {
   "metadata": {
    "ExecuteTime": {
     "end_time": "2025-10-08T16:42:44.127083Z",
     "start_time": "2025-10-08T16:42:44.124102Z"
    }
   },
   "cell_type": "code",
   "source": [
    "print(\"alpha_zre:\\t\", float(pk_arrays[\"header\"][\"alpha_zre\"][()]))\n",
    "print(\"b0_zre:\\t\\t\", float(pk_arrays[\"header\"][\"b0_zre\"][()]))\n",
    "print(\"kb_zre:\\t\\t\", float(pk_arrays[\"header\"][\"kb_zre\"][()]))\n",
    "print(\"zmean_zre:\\t\", float(pk_arrays[\"header\"][\"zmean_zre\"][()]))"
   ],
   "id": "6e7acdcea9e93059",
   "outputs": [
    {
     "name": "stdout",
     "output_type": "stream",
     "text": [
      "alpha_zre:\t 0.3378471592479111\n",
      "b0_zre:\t\t 0.5931198102016607\n",
      "kb_zre:\t\t 4.4016761145046495\n",
      "zmean_zre:\t 6.527059254700743\n"
     ]
    }
   ],
   "execution_count": 44
  },
  {
   "metadata": {},
   "cell_type": "markdown",
   "source": "### tau | xmval list | xval list | zval list",
   "id": "7d998666fa9c2d7d"
  },
  {
   "metadata": {
    "ExecuteTime": {
     "end_time": "2025-10-08T16:42:44.141748Z",
     "start_time": "2025-10-08T16:42:44.138392Z"
    }
   },
   "cell_type": "code",
   "source": [
    "print(\"tau:\\t\\t\", float(pk_arrays[\"header\"][\"tau\"][()]))\n",
    "print(\"xmval:\\n\", pk_arrays[\"data\"][\"xmval_list\"][()])\n",
    "print(\"xval:\\n\", pk_arrays[\"data\"][\"xval_list\"][()])\n",
    "print(\"zval:\\n\", pk_arrays[\"data\"][\"zval_list\"][()])"
   ],
   "id": "521f2af885e6282e",
   "outputs": [
    {
     "name": "stdout",
     "output_type": "stream",
     "text": [
      "tau:\t\t -171436706.14179865\n",
      "xmval:\n",
      " [0.06877466 0.17521038 0.31555127 0.46058764 0.59027199 0.69644282\n",
      " 0.77871136 0.84027496 0.88534918 0.91791457 0.94125517 0.95790536\n",
      " 0.96977226 0.97823434 0.98427599 0.98859525 0.99169542 0.9939284\n",
      " 0.99554018 0.99671345 0.99756499 0.99864628 0.99923568 0.99956124\n",
      " 0.99974535 0.99984974]\n",
      "xval:\n",
      " [0.1124641  0.25627033 0.42274014 0.57604154 0.69973381 0.79206838\n",
      " 0.85787068 0.90348387 0.93460702 0.95567122 0.96987745 0.97945048\n",
      " 0.98591737 0.99030161 0.99328563 0.9953241  0.99672529 0.99769378\n",
      " 0.99836575 0.99883673 0.9991664  0.99956492 0.99976845 0.99987424\n",
      " 0.99993075 0.99996112]\n",
      "zval:\n",
      " [ 5.   5.5  6.   6.5  7.   7.5  8.   8.5  9.   9.5 10.  10.5 11.  11.5\n",
      " 12.  12.5 13.  13.5 14.  14.5 15.  16.  17.  18.  19.  20. ]\n"
     ]
    }
   ],
   "execution_count": 45
  },
  {
   "metadata": {},
   "cell_type": "markdown",
   "source": "### kSZ Map",
   "id": "2ecdc70e568ac050"
  },
  {
   "cell_type": "code",
   "id": "bb6d2e66-4902-459c-a748-763fbb54a0c1",
   "metadata": {
    "ExecuteTime": {
     "end_time": "2025-10-08T16:42:44.164460Z",
     "start_time": "2025-10-08T16:42:44.161827Z"
    }
   },
   "source": [
    "ksz_map0 = obs_grids[\"data\"][\"ksz_map\"][()]\n",
    "print(\"Shape: \", ksz_map0.shape)"
   ],
   "outputs": [
    {
     "name": "stdout",
     "output_type": "stream",
     "text": [
      "Shape:  (1024, 1024)\n"
     ]
    }
   ],
   "execution_count": 46
  },
  {
   "metadata": {},
   "cell_type": "markdown",
   "source": "### Close Files",
   "id": "867dd6fde9035f19"
  },
  {
   "cell_type": "code",
   "id": "9f588058-b3a1-443b-a759-fdcfbc8c9be0",
   "metadata": {
    "ExecuteTime": {
     "end_time": "2025-10-08T16:42:44.180274Z",
     "start_time": "2025-10-08T16:42:44.178638Z"
    }
   },
   "source": [
    "obs_grids.close()\n",
    "pk_arrays.close()"
   ],
   "outputs": [],
   "execution_count": 47
  }
 ],
 "metadata": {
  "kernelspec": {
   "display_name": "base",
   "language": "python",
   "name": "python3"
  },
  "language_info": {
   "codemirror_mode": {
    "name": "ipython",
    "version": 3
   },
   "file_extension": ".py",
   "mimetype": "text/x-python",
   "name": "python",
   "nbconvert_exporter": "python",
   "pygments_lexer": "ipython3",
   "version": "3.11.5"
  }
 },
 "nbformat": 4,
 "nbformat_minor": 5
}
