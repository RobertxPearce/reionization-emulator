{
 "cells": [
  {
   "metadata": {},
   "cell_type": "markdown",
   "source": "# Data Visualization Notebook",
   "id": "22815cc087454a0c"
  },
  {
   "cell_type": "code",
   "id": "131b1429-40ef-40dd-b762-a397a68084d0",
   "metadata": {
    "ExecuteTime": {
     "end_time": "2025-10-15T17:47:06.600710Z",
     "start_time": "2025-10-15T17:47:06.084643Z"
    }
   },
   "source": [
    "%matplotlib inline\n",
    "import h5py\n",
    "import numpy as np\n",
    "import matplotlib.pyplot as plt"
   ],
   "outputs": [],
   "execution_count": 1
  },
  {
   "metadata": {},
   "cell_type": "markdown",
   "source": "### Open *OBS Grids* and *PK Arrays*",
   "id": "b0f6a9a76d76c13b"
  },
  {
   "cell_type": "code",
   "id": "605b2377-7f22-4fa1-bb1b-4a449c474d66",
   "metadata": {
    "ExecuteTime": {
     "end_time": "2025-10-15T17:47:06.614851Z",
     "start_time": "2025-10-15T17:47:06.609713Z"
    }
   },
   "source": [
    "obs_grids = h5py.File(\"tau_tests/v1/obs_grids.hdf5\", \"r\")\n",
    "pk_arrays = h5py.File(\"tau_tests/v1/pk_arrays.hdf5\", \"r\")"
   ],
   "outputs": [],
   "execution_count": 2
  },
  {
   "metadata": {},
   "cell_type": "markdown",
   "source": "### Data Structure",
   "id": "9a685e096127b081"
  },
  {
   "cell_type": "code",
   "id": "dcdd5a21-741b-4e87-9ee2-1e544b86f62f",
   "metadata": {
    "ExecuteTime": {
     "end_time": "2025-10-15T17:47:06.626168Z",
     "start_time": "2025-10-15T17:47:06.621861Z"
    }
   },
   "source": [
    "print(\"OBS GRIDS\")\n",
    "print(\"Top-Level:\\n\", list(obs_grids.keys()))\n",
    "print(\"Data:\\n\", list(obs_grids[\"data\"].keys()))\n",
    "print(\"Header:\\n\", list(obs_grids[\"header\"].keys()))\n",
    "print(\"\")\n",
    "print(\"PK ARRAYS\")\n",
    "print(\"Top-Level:\\n\", list(pk_arrays.keys()))\n",
    "print(\"Data:\\n\", list(pk_arrays[\"data\"].keys()))\n",
    "print(\"Header:\\n\", list(pk_arrays[\"header\"].keys()))"
   ],
   "outputs": [
    {
     "name": "stdout",
     "output_type": "stream",
     "text": [
      "OBS GRIDS\n",
      "Top-Level:\n",
      " ['data', 'header']\n",
      "Data:\n",
      " ['gal_map', 'ksz_map', 't0vals', 't21_map', 'tau_map', 'xmval_list', 'xval_list', 'zval_list', 'zvals']\n",
      "Header:\n",
      " ['BoxSize', 'N_grid', 'OmegaB', 'OmegaL', 'OmegaM', 'OmegaR', 'Tcmb0', 'YHe', 'alpha_zre', 'b0_zre', 'hubble0', 'kb_zre', 'nsinit', 'sigma8', 'tau', 'theta_max_ksz', 'wde', 'zmean_zre']\n",
      "\n",
      "PK ARRAYS\n",
      "Top-Level:\n",
      " ['data', 'header']\n",
      "Data:\n",
      " ['pk_dd', 'pk_dx', 'pk_tt', 'pk_xx', 'vrms', 'xmval_list', 'xval_list', 'zval_list']\n",
      "Header:\n",
      " ['BoxSize', 'N_grid', 'OmegaB', 'OmegaL', 'OmegaM', 'OmegaR', 'Tcmb0', 'YHe', 'alpha_zre', 'b0_zre', 'hubble0', 'kb_zre', 'nsinit', 'sigma8', 'tau', 'theta_max_ksz', 'wde', 'zmean_zre']\n"
     ]
    }
   ],
   "execution_count": 3
  },
  {
   "metadata": {},
   "cell_type": "markdown",
   "source": [
    "## Simulation Parameters (Input)\n",
    "Each simulation changes three parameters to control the reionization history (with an optional fourth). These parameters are inputs to the simulation (ksz_2lpt.x) and are chosen using Latin Hypercube Sampling (LHS) to evenly cover the parameter space without running every possible combination.\n",
    "- **`zmean`** (7.0 - 9.0) : Sets the midpoint of reionization.\n",
    "- **`alpha`** (0.10 - 3.0) : Controls how long reionization lasts.\n",
    "- **`kb`** (0.10 - 2.0) : Determines how uneven the ionized regions are (higher values more clustered).\n",
    "- **`b0`** (? - ?) : Adjusts the overall strength or amplitude of the ionization field."
   ],
   "id": "e9fb84f1d252e505"
  },
  {
   "metadata": {
    "ExecuteTime": {
     "end_time": "2025-10-15T17:47:06.644684Z",
     "start_time": "2025-10-15T17:47:06.638765Z"
    }
   },
   "cell_type": "code",
   "source": [
    "print(\"alpha_zre:\\t\", float(pk_arrays[\"header\"][\"alpha_zre\"][()]))\n",
    "print(\"b0_zre:\\t\\t\", float(pk_arrays[\"header\"][\"b0_zre\"][()]))\n",
    "print(\"kb_zre:\\t\\t\", float(pk_arrays[\"header\"][\"kb_zre\"][()]))\n",
    "print(\"zmean_zre:\\t\", float(pk_arrays[\"header\"][\"zmean_zre\"][()]))"
   ],
   "id": "6e7acdcea9e93059",
   "outputs": [
    {
     "name": "stdout",
     "output_type": "stream",
     "text": [
      "alpha_zre:\t 0.3\n",
      "b0_zre:\t\t 0.5931198102016607\n",
      "kb_zre:\t\t 1.0\n",
      "zmean_zre:\t 7.5\n"
     ]
    }
   ],
   "execution_count": 4
  },
  {
   "metadata": {},
   "cell_type": "markdown",
   "source": [
    "## Output\n",
    "- **`tau`** — The optical depth to reionization; measures how many CMB photons were scattered by free electrons.\n",
    "- **`xmval_list`** — The average ionized fraction of the universe at different times; shows how reionization progressed.\n",
    "- **`xval_list`** — The ionized fraction sampling points used to track changes in the ionization history.\n",
    "- **`zval_list`** — The redshift values that correspond to each point in the ionization history.\n",
    "- **`ksz_map`** — A 2D map of temperature fluctuations caused by the kinematic Sunyaev–Zel’dovich effect."
   ],
   "id": "147aaf0761737074"
  },
  {
   "metadata": {},
   "cell_type": "markdown",
   "source": "### Optical Depth to Reionization (tau)",
   "id": "7d998666fa9c2d7d"
  },
  {
   "metadata": {
    "ExecuteTime": {
     "end_time": "2025-10-15T17:47:06.670202Z",
     "start_time": "2025-10-15T17:47:06.666697Z"
    }
   },
   "cell_type": "code",
   "source": "print(\"tau:\\t\\t\", float(pk_arrays[\"header\"][\"tau\"][()]))",
   "id": "521f2af885e6282e",
   "outputs": [
    {
     "name": "stdout",
     "output_type": "stream",
     "text": [
      "tau:\t\t -66974409.59958518\n"
     ]
    }
   ],
   "execution_count": 5
  },
  {
   "metadata": {},
   "cell_type": "markdown",
   "source": "### Mean Ionized Fraction History (xmval_list)",
   "id": "9fe911203c7b6838"
  },
  {
   "metadata": {
    "ExecuteTime": {
     "end_time": "2025-10-15T17:47:06.690215Z",
     "start_time": "2025-10-15T17:47:06.685715Z"
    }
   },
   "cell_type": "code",
   "source": "print(\"xmval:\\n\", pk_arrays[\"data\"][\"xmval_list\"][()])",
   "id": "a98a2a79af4942f0",
   "outputs": [
    {
     "name": "stdout",
     "output_type": "stream",
     "text": [
      "xmval:\n",
      " [9.57499185e-04 1.19745788e-02 5.97811236e-02 1.64383201e-01\n",
      " 3.11567672e-01 4.68870095e-01 6.10361143e-01 7.24361614e-01\n",
      " 8.09870596e-01 8.71044450e-01 9.13473818e-01 9.42315630e-01\n",
      " 9.61668458e-01 9.74555778e-01 9.83098780e-01 9.88746912e-01\n",
      " 9.92486388e-01 9.94967989e-01 9.96615646e-01 9.97715059e-01\n",
      " 9.98449633e-01 9.99275345e-01 9.99655206e-01 9.99833303e-01\n",
      " 9.99917981e-01 9.99958764e-01]\n"
     ]
    }
   ],
   "execution_count": 6
  },
  {
   "metadata": {},
   "cell_type": "markdown",
   "source": "### Ionization Fraction Samples (xval_list)",
   "id": "4f92e0c721bfa5eb"
  },
  {
   "metadata": {
    "ExecuteTime": {
     "end_time": "2025-10-15T17:47:06.713245Z",
     "start_time": "2025-10-15T17:47:06.709739Z"
    }
   },
   "cell_type": "code",
   "source": "print(\"xval:\\n\", pk_arrays[\"data\"][\"xval_list\"][()])",
   "id": "4d226202502d10a1",
   "outputs": [
    {
     "name": "stdout",
     "output_type": "stream",
     "text": [
      "xval:\n",
      " [0.00205718 0.02171964 0.09472553 0.23379836 0.40670023 0.57211539\n",
      " 0.70679932 0.80595496 0.87445311 0.91988881 0.94927505 0.9679942\n",
      " 0.97981517 0.98725138 0.99192363 0.99486006 0.99671296 0.99788776\n",
      " 0.99863454 0.99911254 0.99941946 0.99974672 0.99988698 0.99994855\n",
      " 0.99997608 0.9999886 ]\n"
     ]
    }
   ],
   "execution_count": 7
  },
  {
   "metadata": {},
   "cell_type": "markdown",
   "source": "### Redshift Values (zval list)",
   "id": "dba380079f6f8b62"
  },
  {
   "metadata": {
    "ExecuteTime": {
     "end_time": "2025-10-15T17:47:06.734236Z",
     "start_time": "2025-10-15T17:47:06.730810Z"
    }
   },
   "cell_type": "code",
   "source": "print(\"zval:\\n\", pk_arrays[\"data\"][\"zval_list\"][()])",
   "id": "412dd56313957ea8",
   "outputs": [
    {
     "name": "stdout",
     "output_type": "stream",
     "text": [
      "zval:\n",
      " [ 5.   5.5  6.   6.5  7.   7.5  8.   8.5  9.   9.5 10.  10.5 11.  11.5\n",
      " 12.  12.5 13.  13.5 14.  14.5 15.  16.  17.  18.  19.  20. ]\n"
     ]
    }
   ],
   "execution_count": 8
  },
  {
   "metadata": {},
   "cell_type": "markdown",
   "source": "### kSZ Map",
   "id": "2ecdc70e568ac050"
  },
  {
   "cell_type": "code",
   "id": "bb6d2e66-4902-459c-a748-763fbb54a0c1",
   "metadata": {
    "ExecuteTime": {
     "end_time": "2025-10-15T17:47:06.754047Z",
     "start_time": "2025-10-15T17:47:06.747744Z"
    }
   },
   "source": [
    "ksz_map0 = obs_grids[\"data\"][\"ksz_map\"][()]\n",
    "print(\"Shape: \", ksz_map0.shape)"
   ],
   "outputs": [
    {
     "name": "stdout",
     "output_type": "stream",
     "text": [
      "Shape:  (1024, 1024)\n"
     ]
    }
   ],
   "execution_count": 9
  },
  {
   "metadata": {},
   "cell_type": "markdown",
   "source": "### Close Files",
   "id": "867dd6fde9035f19"
  },
  {
   "cell_type": "code",
   "id": "9f588058-b3a1-443b-a759-fdcfbc8c9be0",
   "metadata": {
    "ExecuteTime": {
     "end_time": "2025-10-15T17:47:06.769835Z",
     "start_time": "2025-10-15T17:47:06.766331Z"
    }
   },
   "source": [
    "obs_grids.close()\n",
    "pk_arrays.close()"
   ],
   "outputs": [],
   "execution_count": 10
  }
 ],
 "metadata": {
  "kernelspec": {
   "display_name": "base",
   "language": "python",
   "name": "python3"
  },
  "language_info": {
   "codemirror_mode": {
    "name": "ipython",
    "version": 3
   },
   "file_extension": ".py",
   "mimetype": "text/x-python",
   "name": "python",
   "nbconvert_exporter": "python",
   "pygments_lexer": "ipython3",
   "version": "3.11.5"
  }
 },
 "nbformat": 4,
 "nbformat_minor": 5
}
