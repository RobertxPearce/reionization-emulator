{
 "cells": [
  {
   "metadata": {},
   "cell_type": "markdown",
   "source": "# Data Visualization Notebook",
   "id": "22815cc087454a0c"
  },
  {
   "cell_type": "code",
   "id": "131b1429-40ef-40dd-b762-a397a68084d0",
   "metadata": {
    "ExecuteTime": {
     "end_time": "2025-10-08T03:49:20.032410Z",
     "start_time": "2025-10-08T03:49:20.028998Z"
    }
   },
   "source": [
    "%matplotlib inline\n",
    "import h5py\n",
    "import numpy as np\n",
    "import matplotlib.pyplot as plt"
   ],
   "outputs": [],
   "execution_count": 54
  },
  {
   "metadata": {},
   "cell_type": "markdown",
   "source": "### Open *OBS Grids* and *PK Arrays*",
   "id": "b0f6a9a76d76c13b"
  },
  {
   "cell_type": "code",
   "id": "605b2377-7f22-4fa1-bb1b-4a449c474d66",
   "metadata": {
    "ExecuteTime": {
     "end_time": "2025-10-08T03:49:20.040715Z",
     "start_time": "2025-10-08T03:49:20.038405Z"
    }
   },
   "source": [
    "obs_grids = h5py.File(\"raw/simulations/sims_v0/sim0obs_grids.hdf5\", \"r\")\n",
    "pk_arrays = h5py.File(\"raw/simulations/sims_v0/sim0pk_arrays.hdf5\", \"r\")"
   ],
   "outputs": [],
   "execution_count": 55
  },
  {
   "metadata": {},
   "cell_type": "markdown",
   "source": "### Data Structure",
   "id": "9a685e096127b081"
  },
  {
   "cell_type": "code",
   "id": "dcdd5a21-741b-4e87-9ee2-1e544b86f62f",
   "metadata": {
    "ExecuteTime": {
     "end_time": "2025-10-08T03:49:20.049016Z",
     "start_time": "2025-10-08T03:49:20.046014Z"
    }
   },
   "source": [
    "print(\"OBS GRIDS\")\n",
    "print(\"Top-Level:\\n\", list(obs_grids.keys()))\n",
    "print(\"Data:\\n\", list(obs_grids[\"data\"].keys()))\n",
    "print(\"Header:\\n\", list(obs_grids[\"header\"].keys()))\n",
    "print(\"\")\n",
    "print(\"PK ARRAYS\")\n",
    "print(\"Top-Level:\\n\", list(pk_arrays.keys()))\n",
    "print(\"Data:\\n\", list(pk_arrays[\"data\"].keys()))\n",
    "print(\"Header:\\n\", list(pk_arrays[\"header\"].keys()))"
   ],
   "outputs": [
    {
     "name": "stdout",
     "output_type": "stream",
     "text": [
      "OBS GRIDS\n",
      "Top-Level:\n",
      " ['data', 'header']\n",
      "Data:\n",
      " ['gal_map', 'ksz_map', 't0vals', 't21_map', 'tau_map', 'xmval_list', 'xval_list', 'zval_list', 'zvals']\n",
      "Header:\n",
      " ['BoxSize', 'N_grid', 'OmegaB', 'OmegaL', 'OmegaM', 'OmegaR', 'Tcmb0', 'YHe', 'alpha_zre', 'b0_zre', 'hubble0', 'kb_zre', 'nsinit', 'sigma8', 'tau', 'theta_max_ksz', 'wde', 'zmean_zre']\n",
      "\n",
      "PK ARRAYS\n",
      "Top-Level:\n",
      " ['data', 'header']\n",
      "Data:\n",
      " ['pk_dd', 'pk_dx', 'pk_tt', 'pk_xx', 'vrms', 'xmval_list', 'xval_list', 'zval_list']\n",
      "Header:\n",
      " ['BoxSize', 'N_grid', 'OmegaB', 'OmegaL', 'OmegaM', 'OmegaR', 'Tcmb0', 'YHe', 'alpha_zre', 'b0_zre', 'hubble0', 'kb_zre', 'nsinit', 'sigma8', 'tau', 'theta_max_ksz', 'wde', 'zmean_zre']\n"
     ]
    }
   ],
   "execution_count": 56
  },
  {
   "metadata": {},
   "cell_type": "markdown",
   "source": "### Simulation Parameters",
   "id": "d8399eb4d01b4097"
  },
  {
   "metadata": {
    "ExecuteTime": {
     "end_time": "2025-10-08T03:49:20.060028Z",
     "start_time": "2025-10-08T03:49:20.056798Z"
    }
   },
   "cell_type": "code",
   "source": [
    "print(\"alpha_zre:\\t\", float(pk_arrays[\"header\"][\"alpha_zre\"][()]))\n",
    "print(\"b0_zre:\\t\\t\", float(pk_arrays[\"header\"][\"b0_zre\"][()]))\n",
    "print(\"kb_zre:\\t\\t\", float(pk_arrays[\"header\"][\"kb_zre\"][()]))\n",
    "print(\"zmean_zre:\\t\", float(pk_arrays[\"header\"][\"zmean_zre\"][()]))\n",
    "print(\"tau:\\t\\t\", float(pk_arrays[\"header\"][\"tau\"][()]))"
   ],
   "id": "6e7acdcea9e93059",
   "outputs": [
    {
     "name": "stdout",
     "output_type": "stream",
     "text": [
      "alpha_zre:\t 0.3378471592479111\n",
      "b0_zre:\t\t 0.5931198102016607\n",
      "kb_zre:\t\t 4.4016761145046495\n",
      "zmean_zre:\t 6.527059254700743\n",
      "tau:\t\t -171436706.14179865\n"
     ]
    }
   ],
   "execution_count": 57
  },
  {
   "metadata": {},
   "cell_type": "markdown",
   "source": "### kSZ Map",
   "id": "2ecdc70e568ac050"
  },
  {
   "cell_type": "code",
   "id": "bb6d2e66-4902-459c-a748-763fbb54a0c1",
   "metadata": {
    "ExecuteTime": {
     "end_time": "2025-10-08T03:49:20.078012Z",
     "start_time": "2025-10-08T03:49:20.075872Z"
    }
   },
   "source": [
    "ksz_map0 = obs_grids[\"data\"][\"ksz_map\"][0]\n",
    "print(\"Shape: \", ksz_map0.shape)"
   ],
   "outputs": [
    {
     "name": "stdout",
     "output_type": "stream",
     "text": [
      "Shape:  (1024,)\n"
     ]
    }
   ],
   "execution_count": 58
  },
  {
   "metadata": {},
   "cell_type": "markdown",
   "source": "### Close Files",
   "id": "867dd6fde9035f19"
  },
  {
   "cell_type": "code",
   "id": "9f588058-b3a1-443b-a759-fdcfbc8c9be0",
   "metadata": {
    "ExecuteTime": {
     "end_time": "2025-10-08T03:49:20.092577Z",
     "start_time": "2025-10-08T03:49:20.091028Z"
    }
   },
   "source": [
    "obs_grids.close()\n",
    "pk_arrays.close()"
   ],
   "outputs": [],
   "execution_count": 59
  }
 ],
 "metadata": {
  "kernelspec": {
   "display_name": "base",
   "language": "python",
   "name": "python3"
  },
  "language_info": {
   "codemirror_mode": {
    "name": "ipython",
    "version": 3
   },
   "file_extension": ".py",
   "mimetype": "text/x-python",
   "name": "python",
   "nbconvert_exporter": "python",
   "pygments_lexer": "ipython3",
   "version": "3.11.5"
  }
 },
 "nbformat": 4,
 "nbformat_minor": 5
}
