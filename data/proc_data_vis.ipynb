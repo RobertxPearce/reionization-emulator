{
 "cells": [
  {
   "metadata": {},
   "cell_type": "markdown",
   "source": "# Processed Data Visualization Notebook",
   "id": "22815cc087454a0c"
  },
  {
   "cell_type": "code",
   "id": "131b1429-40ef-40dd-b762-a397a68084d0",
   "metadata": {
    "ExecuteTime": {
     "end_time": "2025-10-30T10:35:48.539370Z",
     "start_time": "2025-10-30T10:35:48.455233Z"
    }
   },
   "source": [
    "%matplotlib inline\n",
    "import h5py\n",
    "import numpy as np\n",
    "import pandas as pd\n",
    "from scipy.spatial.distance import pdist\n",
    "import seaborn as sns\n",
    "import matplotlib.pyplot as plt\n",
    "from pathlib import Path"
   ],
   "outputs": [],
   "execution_count": 1
  },
  {
   "metadata": {},
   "cell_type": "markdown",
   "source": "## Open Processed Simulation Output",
   "id": "b0f6a9a76d76c13b"
  },
  {
   "cell_type": "code",
   "id": "605b2377-7f22-4fa1-bb1b-4a449c474d66",
   "metadata": {
    "ExecuteTime": {
     "end_time": "2025-10-30T10:35:48.551218Z",
     "start_time": "2025-10-30T10:35:48.549441Z"
    }
   },
   "source": "h5f = h5py.File(\"processed/proc_sims_v5.h5\", \"r\")",
   "outputs": [],
   "execution_count": 2
  },
  {
   "metadata": {},
   "cell_type": "markdown",
   "source": "## Data Structure",
   "id": "9a685e096127b081"
  },
  {
   "cell_type": "code",
   "id": "dcdd5a21-741b-4e87-9ee2-1e544b86f62f",
   "metadata": {
    "ExecuteTime": {
     "end_time": "2025-10-30T10:35:48.568840Z",
     "start_time": "2025-10-30T10:35:48.564371Z"
    }
   },
   "source": [
    "print(\"Top-Level:\\n\", list(h5f.keys()))\n",
    "print(\"Header:\\n\", list(h5f[\"sims\"]))\n",
    "print(\"Header (sim<n>):\\n\", list(h5f[\"sims\"][\"sim0\"]))"
   ],
   "outputs": [
    {
     "name": "stdout",
     "output_type": "stream",
     "text": [
      "Top-Level:\n",
      " ['sims']\n",
      "Header:\n",
      " ['sim0', 'sim1', 'sim10', 'sim11', 'sim12', 'sim13', 'sim14', 'sim15', 'sim16', 'sim17', 'sim18', 'sim19', 'sim2', 'sim20', 'sim21', 'sim22', 'sim23', 'sim24', 'sim25', 'sim26', 'sim27', 'sim28', 'sim29', 'sim3', 'sim30', 'sim31', 'sim32', 'sim33', 'sim34', 'sim35', 'sim36', 'sim37', 'sim38', 'sim39', 'sim4', 'sim40', 'sim41', 'sim42', 'sim43', 'sim44', 'sim45', 'sim46', 'sim47', 'sim48', 'sim49', 'sim5', 'sim50', 'sim51', 'sim52', 'sim53', 'sim54', 'sim55', 'sim56', 'sim57', 'sim58', 'sim59', 'sim6', 'sim60', 'sim61', 'sim62', 'sim63', 'sim64', 'sim65', 'sim66', 'sim67', 'sim68', 'sim69', 'sim7', 'sim70', 'sim71', 'sim72', 'sim73', 'sim74', 'sim75', 'sim76', 'sim77', 'sim78', 'sim79', 'sim8', 'sim80', 'sim81', 'sim82', 'sim83', 'sim84', 'sim85', 'sim86', 'sim87', 'sim88', 'sim89', 'sim9', 'sim90', 'sim91', 'sim92', 'sim93', 'sim94', 'sim95', 'sim96', 'sim97', 'sim98', 'sim99']\n",
      "Header (sim<n>):\n",
      " ['alpha_zre', 'b0_zre', 'kb_zre', 'ksz_map', 'pk_tt', 'tau', 'xmval_list', 'zmean_zre', 'zval_list']\n"
     ]
    }
   ],
   "execution_count": 3
  },
  {
   "metadata": {},
   "cell_type": "markdown",
   "source": "## Build DataFrame",
   "id": "4a548f50937d8690"
  },
  {
   "metadata": {
    "ExecuteTime": {
     "end_time": "2025-10-30T10:35:48.619653Z",
     "start_time": "2025-10-30T10:35:48.578138Z"
    }
   },
   "cell_type": "code",
   "source": [
    "rows = []\n",
    "sims = h5f[\"sims\"]\n",
    "\n",
    "# Iterate through all sims in sims/\n",
    "for name in sorted(sims.keys(), key=lambda s: int(s[3:]) if s.startswith(\"sim\") and s[3:].isdigit() else s):\n",
    "    g = sims[name]\n",
    "    rows.append({\n",
    "        \"sim\":          name,\n",
    "        # Parameters\n",
    "        \"alpha_zre\":    float(g[\"alpha_zre\"][()]),\n",
    "        \"kb_zre\":       float(g[\"kb_zre\"][()]),\n",
    "        \"zmean_zre\":    float(g[\"zmean_zre\"][()]),\n",
    "        \"b0_zre\":       float(g[\"b0_zre\"][()]),\n",
    "        \"tau\":          float(g[\"tau\"][()]),\n",
    "        # Info about per-sim grids\n",
    "        \"n_z\":          int(g[\"zval_list\"].shape[0]),\n",
    "        \"n_xm\":         int(g[\"xmval_list\"].shape[0]),\n",
    "    })\n",
    "\n",
    "df = pd.DataFrame(rows)\n",
    "df.head()"
   ],
   "id": "d68dc411b6aab832",
   "outputs": [
    {
     "data": {
      "text/plain": [
       "    sim  alpha_zre    kb_zre  zmean_zre   b0_zre       tau  n_z  n_xm\n",
       "0  sim0   0.123569  0.361813   8.026353  0.59312  0.061644   26    26\n",
       "1  sim1   0.658593  1.319570   8.276313  0.59312  0.063535   26    26\n",
       "2  sim2   0.569787  0.369425   8.481533  0.59312  0.064694   26    26\n",
       "3  sim3   0.151896  1.349346   8.802202  0.59312  0.069647   26    26\n",
       "4  sim4   0.194290  1.111912   7.723515  0.59312  0.058893   26    26"
      ],
      "text/html": [
       "<div>\n",
       "<style scoped>\n",
       "    .dataframe tbody tr th:only-of-type {\n",
       "        vertical-align: middle;\n",
       "    }\n",
       "\n",
       "    .dataframe tbody tr th {\n",
       "        vertical-align: top;\n",
       "    }\n",
       "\n",
       "    .dataframe thead th {\n",
       "        text-align: right;\n",
       "    }\n",
       "</style>\n",
       "<table border=\"1\" class=\"dataframe\">\n",
       "  <thead>\n",
       "    <tr style=\"text-align: right;\">\n",
       "      <th></th>\n",
       "      <th>sim</th>\n",
       "      <th>alpha_zre</th>\n",
       "      <th>kb_zre</th>\n",
       "      <th>zmean_zre</th>\n",
       "      <th>b0_zre</th>\n",
       "      <th>tau</th>\n",
       "      <th>n_z</th>\n",
       "      <th>n_xm</th>\n",
       "    </tr>\n",
       "  </thead>\n",
       "  <tbody>\n",
       "    <tr>\n",
       "      <th>0</th>\n",
       "      <td>sim0</td>\n",
       "      <td>0.123569</td>\n",
       "      <td>0.361813</td>\n",
       "      <td>8.026353</td>\n",
       "      <td>0.59312</td>\n",
       "      <td>0.061644</td>\n",
       "      <td>26</td>\n",
       "      <td>26</td>\n",
       "    </tr>\n",
       "    <tr>\n",
       "      <th>1</th>\n",
       "      <td>sim1</td>\n",
       "      <td>0.658593</td>\n",
       "      <td>1.319570</td>\n",
       "      <td>8.276313</td>\n",
       "      <td>0.59312</td>\n",
       "      <td>0.063535</td>\n",
       "      <td>26</td>\n",
       "      <td>26</td>\n",
       "    </tr>\n",
       "    <tr>\n",
       "      <th>2</th>\n",
       "      <td>sim2</td>\n",
       "      <td>0.569787</td>\n",
       "      <td>0.369425</td>\n",
       "      <td>8.481533</td>\n",
       "      <td>0.59312</td>\n",
       "      <td>0.064694</td>\n",
       "      <td>26</td>\n",
       "      <td>26</td>\n",
       "    </tr>\n",
       "    <tr>\n",
       "      <th>3</th>\n",
       "      <td>sim3</td>\n",
       "      <td>0.151896</td>\n",
       "      <td>1.349346</td>\n",
       "      <td>8.802202</td>\n",
       "      <td>0.59312</td>\n",
       "      <td>0.069647</td>\n",
       "      <td>26</td>\n",
       "      <td>26</td>\n",
       "    </tr>\n",
       "    <tr>\n",
       "      <th>4</th>\n",
       "      <td>sim4</td>\n",
       "      <td>0.194290</td>\n",
       "      <td>1.111912</td>\n",
       "      <td>7.723515</td>\n",
       "      <td>0.59312</td>\n",
       "      <td>0.058893</td>\n",
       "      <td>26</td>\n",
       "      <td>26</td>\n",
       "    </tr>\n",
       "  </tbody>\n",
       "</table>\n",
       "</div>"
      ]
     },
     "execution_count": 4,
     "metadata": {},
     "output_type": "execute_result"
    }
   ],
   "execution_count": 4
  },
  {
   "metadata": {},
   "cell_type": "markdown",
   "source": [
    "## Simulation Parameters\n",
    "- **`alpha`** (0.10 - 0.90) : Controls how long reionization lasts.\n",
    "- **`kb`** (0.10 - 2.0) : Determines how uneven the ionized regions are (higher values more clustered).\n",
    "- **`zmean`** (7.0 - 9.0) : Sets the midpoint of reionization.\n",
    "- **`b0`** (? - ?) : Adjusts the overall strength or amplitude of the ionization field."
   ],
   "id": "e9fb84f1d252e505"
  },
  {
   "metadata": {},
   "cell_type": "markdown",
   "source": "### Summary",
   "id": "bffc633356e44ece"
  },
  {
   "metadata": {
    "ExecuteTime": {
     "end_time": "2025-10-30T10:35:48.633932Z",
     "start_time": "2025-10-30T10:35:48.628818Z"
    }
   },
   "cell_type": "code",
   "source": [
    "def summarize(col):\n",
    "    s = df[col]\n",
    "    return {\"min\": s.min(), \"max\": s.max(), \"mean\": s.mean(), \"std\": s.std(ddof=1), \"n_unique\": s.nunique()}\n",
    "\n",
    "summary = pd.DataFrame({c: summarize(c) for c in [\"alpha_zre\",\"kb_zre\",\"zmean_zre\", \"b0_zre\"]}).T\n",
    "summary\n"
   ],
   "id": "e588b61dc0e32ce3",
   "outputs": [
    {
     "data": {
      "text/plain": [
       "                min       max      mean           std  n_unique\n",
       "alpha_zre  0.106138  0.892581  0.500387  2.320735e-01     100.0\n",
       "kb_zre     0.104399  1.987047  1.050257  5.515132e-01     100.0\n",
       "zmean_zre  7.013623  8.984811  7.999837  5.803226e-01     100.0\n",
       "b0_zre     0.593120  0.593120  0.593120  2.231632e-16       1.0"
      ],
      "text/html": [
       "<div>\n",
       "<style scoped>\n",
       "    .dataframe tbody tr th:only-of-type {\n",
       "        vertical-align: middle;\n",
       "    }\n",
       "\n",
       "    .dataframe tbody tr th {\n",
       "        vertical-align: top;\n",
       "    }\n",
       "\n",
       "    .dataframe thead th {\n",
       "        text-align: right;\n",
       "    }\n",
       "</style>\n",
       "<table border=\"1\" class=\"dataframe\">\n",
       "  <thead>\n",
       "    <tr style=\"text-align: right;\">\n",
       "      <th></th>\n",
       "      <th>min</th>\n",
       "      <th>max</th>\n",
       "      <th>mean</th>\n",
       "      <th>std</th>\n",
       "      <th>n_unique</th>\n",
       "    </tr>\n",
       "  </thead>\n",
       "  <tbody>\n",
       "    <tr>\n",
       "      <th>alpha_zre</th>\n",
       "      <td>0.106138</td>\n",
       "      <td>0.892581</td>\n",
       "      <td>0.500387</td>\n",
       "      <td>2.320735e-01</td>\n",
       "      <td>100.0</td>\n",
       "    </tr>\n",
       "    <tr>\n",
       "      <th>kb_zre</th>\n",
       "      <td>0.104399</td>\n",
       "      <td>1.987047</td>\n",
       "      <td>1.050257</td>\n",
       "      <td>5.515132e-01</td>\n",
       "      <td>100.0</td>\n",
       "    </tr>\n",
       "    <tr>\n",
       "      <th>zmean_zre</th>\n",
       "      <td>7.013623</td>\n",
       "      <td>8.984811</td>\n",
       "      <td>7.999837</td>\n",
       "      <td>5.803226e-01</td>\n",
       "      <td>100.0</td>\n",
       "    </tr>\n",
       "    <tr>\n",
       "      <th>b0_zre</th>\n",
       "      <td>0.593120</td>\n",
       "      <td>0.593120</td>\n",
       "      <td>0.593120</td>\n",
       "      <td>2.231632e-16</td>\n",
       "      <td>1.0</td>\n",
       "    </tr>\n",
       "  </tbody>\n",
       "</table>\n",
       "</div>"
      ]
     },
     "execution_count": 5,
     "metadata": {},
     "output_type": "execute_result"
    }
   ],
   "execution_count": 5
  },
  {
   "metadata": {},
   "cell_type": "markdown",
   "source": [
    "### Histogram of Parameter Space\n",
    "- Histograms should be flat for uniform coverage."
   ],
   "id": "f24e4d5c61f3c411"
  },
  {
   "metadata": {
    "ExecuteTime": {
     "end_time": "2025-10-30T10:35:48.845931Z",
     "start_time": "2025-10-30T10:35:48.693064Z"
    }
   },
   "cell_type": "code",
   "source": [
    "plt.figure(figsize=(12,3))\n",
    "for i, col in enumerate([\"alpha_zre\",\"kb_zre\",\"zmean_zre\", \"b0_zre\"], 1):\n",
    "    plt.subplot(1,4,i)\n",
    "    plt.hist(df[col], bins=20)\n",
    "    plt.title(col)\n",
    "plt.tight_layout()\n",
    "plt.show()\n",
    "\n",
    "plt.show()\n"
   ],
   "id": "1e2a6be07311eed0",
   "outputs": [
    {
     "data": {
      "text/plain": [
       "<Figure size 1200x300 with 4 Axes>"
      ],
      "image/png": "[encoded data removed]"
     },
     "metadata": {},
     "output_type": "display_data",
     "jetTransient": {
      "display_id": null
     }
    }
   ],
   "execution_count": 6
  },
  {
   "metadata": {},
   "cell_type": "markdown",
   "source": "## Spearman Correlation (Independence)",
   "id": "77fd49965706d06c"
  },
  {
   "metadata": {
    "ExecuteTime": {
     "end_time": "2025-10-30T10:35:48.894253Z",
     "start_time": "2025-10-30T10:35:48.888897Z"
    }
   },
   "cell_type": "code",
   "source": "df[[\"alpha_zre\",\"kb_zre\",\"zmean_zre\"]].corr(method=\"spearman\")\n",
   "id": "ef76919d82d83e76",
   "outputs": [
    {
     "data": {
      "text/plain": [
       "           alpha_zre   kb_zre  zmean_zre\n",
       "alpha_zre   1.000000 -0.14345   0.054917\n",
       "kb_zre     -0.143450  1.00000  -0.138830\n",
       "zmean_zre   0.054917 -0.13883   1.000000"
      ],
      "text/html": [
       "<div>\n",
       "<style scoped>\n",
       "    .dataframe tbody tr th:only-of-type {\n",
       "        vertical-align: middle;\n",
       "    }\n",
       "\n",
       "    .dataframe tbody tr th {\n",
       "        vertical-align: top;\n",
       "    }\n",
       "\n",
       "    .dataframe thead th {\n",
       "        text-align: right;\n",
       "    }\n",
       "</style>\n",
       "<table border=\"1\" class=\"dataframe\">\n",
       "  <thead>\n",
       "    <tr style=\"text-align: right;\">\n",
       "      <th></th>\n",
       "      <th>alpha_zre</th>\n",
       "      <th>kb_zre</th>\n",
       "      <th>zmean_zre</th>\n",
       "    </tr>\n",
       "  </thead>\n",
       "  <tbody>\n",
       "    <tr>\n",
       "      <th>alpha_zre</th>\n",
       "      <td>1.000000</td>\n",
       "      <td>-0.14345</td>\n",
       "      <td>0.054917</td>\n",
       "    </tr>\n",
       "    <tr>\n",
       "      <th>kb_zre</th>\n",
       "      <td>-0.143450</td>\n",
       "      <td>1.00000</td>\n",
       "      <td>-0.138830</td>\n",
       "    </tr>\n",
       "    <tr>\n",
       "      <th>zmean_zre</th>\n",
       "      <td>0.054917</td>\n",
       "      <td>-0.13883</td>\n",
       "      <td>1.000000</td>\n",
       "    </tr>\n",
       "  </tbody>\n",
       "</table>\n",
       "</div>"
      ]
     },
     "execution_count": 7,
     "metadata": {},
     "output_type": "execute_result"
    }
   ],
   "execution_count": 7
  },
  {
   "metadata": {},
   "cell_type": "markdown",
   "source": "## Coverage of Parameter Space",
   "id": "e4a5d24726847dee"
  },
  {
   "metadata": {
    "ExecuteTime": {
     "end_time": "2025-10-30T10:35:49.068231Z",
     "start_time": "2025-10-30T10:35:49.064780Z"
    }
   },
   "cell_type": "code",
   "source": [
    "X = df[[\"alpha_zre\",\"kb_zre\",\"zmean_zre\"]].to_numpy()\n",
    "# Normalize to [0,1]\n",
    "Xn = (X - X.min(axis=0)) / (X.max(axis=0) - X.min(axis=0))\n",
    "D = pdist(Xn)\n",
    "\n",
    "print(f\"Min Pairwise Distance: {np.min(D):.3f}\")\n",
    "print(f\"Median Pairwise Distance: {np.median(D):.3f}\")\n"
   ],
   "id": "96cdc101331e5e65",
   "outputs": [
    {
     "name": "stdout",
     "output_type": "stream",
     "text": [
      "Min Pairwise Distance: 0.026\n",
      "Median Pairwise Distance: 0.675\n"
     ]
    }
   ],
   "execution_count": 8
  },
  {
   "metadata": {},
   "cell_type": "markdown",
   "source": "## Close Files",
   "id": "867dd6fde9035f19"
  },
  {
   "cell_type": "code",
   "id": "9f588058-b3a1-443b-a759-fdcfbc8c9be0",
   "metadata": {
    "ExecuteTime": {
     "end_time": "2025-10-30T10:35:49.121798Z",
     "start_time": "2025-10-30T10:35:49.119748Z"
    }
   },
   "source": "h5f.close()",
   "outputs": [],
   "execution_count": 9
  }
 ],
 "metadata": {
  "kernelspec": {
   "display_name": "base",
   "language": "python",
   "name": "python3"
  },
  "language_info": {
   "codemirror_mode": {
    "name": "ipython",
    "version": 3
   },
   "file_extension": ".py",
   "mimetype": "text/x-python",
   "name": "python",
   "nbconvert_exporter": "python",
   "pygments_lexer": "ipython3",
   "version": "3.11.5"
  }
 },
 "nbformat": 4,
 "nbformat_minor": 5
}
