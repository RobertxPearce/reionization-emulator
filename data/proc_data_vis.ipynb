{
 "cells": [
  {
   "metadata": {},
   "cell_type": "markdown",
   "source": "# Processed Data Visualization Notebook",
   "id": "22815cc087454a0c"
  },
  {
   "cell_type": "code",
   "id": "131b1429-40ef-40dd-b762-a397a68084d0",
   "metadata": {
    "ExecuteTime": {
     "end_time": "2025-10-29T22:18:37.397503Z",
     "start_time": "2025-10-29T22:18:37.393993Z"
    }
   },
   "source": [
    "%matplotlib inline\n",
    "import h5py\n",
    "import numpy as np\n",
    "import pandas as pd\n",
    "from scipy.spatial.distance import pdist\n",
    "import seaborn as sns\n",
    "import matplotlib.pyplot as plt\n",
    "from pathlib import Path"
   ],
   "outputs": [],
   "execution_count": 117
  },
  {
   "metadata": {},
   "cell_type": "markdown",
   "source": "## Open Processed Simulation Output",
   "id": "b0f6a9a76d76c13b"
  },
  {
   "cell_type": "code",
   "id": "605b2377-7f22-4fa1-bb1b-4a449c474d66",
   "metadata": {
    "ExecuteTime": {
     "end_time": "2025-10-29T22:18:37.411693Z",
     "start_time": "2025-10-29T22:18:37.408520Z"
    }
   },
   "source": "h5f = h5py.File(\"processed/proc_sims_v4.h5\", \"r\")",
   "outputs": [],
   "execution_count": 118
  },
  {
   "metadata": {},
   "cell_type": "markdown",
   "source": "## Data Structure",
   "id": "9a685e096127b081"
  },
  {
   "cell_type": "code",
   "id": "dcdd5a21-741b-4e87-9ee2-1e544b86f62f",
   "metadata": {
    "ExecuteTime": {
     "end_time": "2025-10-29T22:18:37.425235Z",
     "start_time": "2025-10-29T22:18:37.420208Z"
    }
   },
   "source": [
    "print(\"Top-Level:\\n\", list(h5f.keys()))\n",
    "print(\"Header:\\n\", list(h5f[\"sims\"]))\n",
    "print(\"Header (sim<n>):\\n\", list(h5f[\"sims\"][\"sim0\"]))"
   ],
   "outputs": [
    {
     "name": "stdout",
     "output_type": "stream",
     "text": [
      "Top-Level:\n",
      " ['sims']\n",
      "Header:\n",
      " ['sim0', 'sim1', 'sim10', 'sim11', 'sim12', 'sim13', 'sim14', 'sim15', 'sim16', 'sim17', 'sim18', 'sim2', 'sim3', 'sim4', 'sim5', 'sim6', 'sim7', 'sim8', 'sim9']\n",
      "Header (sim<n>):\n",
      " ['alpha_zre', 'b0_zre', 'kb_zre', 'ksz_map', 'pk_tt', 'tau', 'xmval_list', 'zmean_zre', 'zval_list']\n"
     ]
    }
   ],
   "execution_count": 119
  },
  {
   "metadata": {},
   "cell_type": "markdown",
   "source": "## Build DataFrame",
   "id": "4a548f50937d8690"
  },
  {
   "metadata": {
    "ExecuteTime": {
     "end_time": "2025-10-29T22:18:37.453141Z",
     "start_time": "2025-10-29T22:18:37.438267Z"
    }
   },
   "cell_type": "code",
   "source": [
    "rows = []\n",
    "sims = h5f[\"sims\"]\n",
    "\n",
    "# Iterate through all sims in sims/\n",
    "for name in sorted(sims.keys(), key=lambda s: int(s[3:]) if s.startswith(\"sim\") and s[3:].isdigit() else s):\n",
    "    g = sims[name]\n",
    "    rows.append({\n",
    "        \"sim\":          name,\n",
    "        # Parameters\n",
    "        \"alpha_zre\":    float(g[\"alpha_zre\"][()]),\n",
    "        \"kb_zre\":       float(g[\"kb_zre\"][()]),\n",
    "        \"zmean_zre\":    float(g[\"zmean_zre\"][()]),\n",
    "        \"b0_zre\":       float(g[\"b0_zre\"][()]),\n",
    "        \"tau\":          float(g[\"tau\"][()]),\n",
    "        # Info about per-sim grids\n",
    "        \"n_z\":          int(g[\"zval_list\"].shape[0]),\n",
    "        \"n_xm\":         int(g[\"xmval_list\"].shape[0]),\n",
    "    })\n",
    "\n",
    "df = pd.DataFrame(rows)\n",
    "df.head()"
   ],
   "id": "d68dc411b6aab832",
   "outputs": [
    {
     "data": {
      "text/plain": [
       "    sim  alpha_zre    kb_zre  zmean_zre   b0_zre       tau  n_z  n_xm\n",
       "0  sim0   0.123569  0.361813   8.026353  0.59312  0.061643   26    26\n",
       "1  sim1   0.658593  1.319570   8.276313  0.59312  0.063533   26    26\n",
       "2  sim2   0.569787  0.369425   8.481533  0.59312  0.064692   26    26\n",
       "3  sim3   0.151896  1.349346   8.802202  0.59312  0.069649   26    26\n",
       "4  sim4   0.194290  1.111912   7.723515  0.59312  0.058893   26    26"
      ],
      "text/html": [
       "<div>\n",
       "<style scoped>\n",
       "    .dataframe tbody tr th:only-of-type {\n",
       "        vertical-align: middle;\n",
       "    }\n",
       "\n",
       "    .dataframe tbody tr th {\n",
       "        vertical-align: top;\n",
       "    }\n",
       "\n",
       "    .dataframe thead th {\n",
       "        text-align: right;\n",
       "    }\n",
       "</style>\n",
       "<table border=\"1\" class=\"dataframe\">\n",
       "  <thead>\n",
       "    <tr style=\"text-align: right;\">\n",
       "      <th></th>\n",
       "      <th>sim</th>\n",
       "      <th>alpha_zre</th>\n",
       "      <th>kb_zre</th>\n",
       "      <th>zmean_zre</th>\n",
       "      <th>b0_zre</th>\n",
       "      <th>tau</th>\n",
       "      <th>n_z</th>\n",
       "      <th>n_xm</th>\n",
       "    </tr>\n",
       "  </thead>\n",
       "  <tbody>\n",
       "    <tr>\n",
       "      <th>0</th>\n",
       "      <td>sim0</td>\n",
       "      <td>0.123569</td>\n",
       "      <td>0.361813</td>\n",
       "      <td>8.026353</td>\n",
       "      <td>0.59312</td>\n",
       "      <td>0.061643</td>\n",
       "      <td>26</td>\n",
       "      <td>26</td>\n",
       "    </tr>\n",
       "    <tr>\n",
       "      <th>1</th>\n",
       "      <td>sim1</td>\n",
       "      <td>0.658593</td>\n",
       "      <td>1.319570</td>\n",
       "      <td>8.276313</td>\n",
       "      <td>0.59312</td>\n",
       "      <td>0.063533</td>\n",
       "      <td>26</td>\n",
       "      <td>26</td>\n",
       "    </tr>\n",
       "    <tr>\n",
       "      <th>2</th>\n",
       "      <td>sim2</td>\n",
       "      <td>0.569787</td>\n",
       "      <td>0.369425</td>\n",
       "      <td>8.481533</td>\n",
       "      <td>0.59312</td>\n",
       "      <td>0.064692</td>\n",
       "      <td>26</td>\n",
       "      <td>26</td>\n",
       "    </tr>\n",
       "    <tr>\n",
       "      <th>3</th>\n",
       "      <td>sim3</td>\n",
       "      <td>0.151896</td>\n",
       "      <td>1.349346</td>\n",
       "      <td>8.802202</td>\n",
       "      <td>0.59312</td>\n",
       "      <td>0.069649</td>\n",
       "      <td>26</td>\n",
       "      <td>26</td>\n",
       "    </tr>\n",
       "    <tr>\n",
       "      <th>4</th>\n",
       "      <td>sim4</td>\n",
       "      <td>0.194290</td>\n",
       "      <td>1.111912</td>\n",
       "      <td>7.723515</td>\n",
       "      <td>0.59312</td>\n",
       "      <td>0.058893</td>\n",
       "      <td>26</td>\n",
       "      <td>26</td>\n",
       "    </tr>\n",
       "  </tbody>\n",
       "</table>\n",
       "</div>"
      ]
     },
     "execution_count": 120,
     "metadata": {},
     "output_type": "execute_result"
    }
   ],
   "execution_count": 120
  },
  {
   "metadata": {},
   "cell_type": "markdown",
   "source": [
    "## Simulation Parameters\n",
    "- **`alpha`** (0.10 - 0.90) : Controls how long reionization lasts.\n",
    "- **`kb`** (0.10 - 2.0) : Determines how uneven the ionized regions are (higher values more clustered).\n",
    "- **`zmean`** (7.0 - 9.0) : Sets the midpoint of reionization.\n",
    "- **`b0`** (? - ?) : Adjusts the overall strength or amplitude of the ionization field."
   ],
   "id": "e9fb84f1d252e505"
  },
  {
   "metadata": {},
   "cell_type": "markdown",
   "source": "### Summary",
   "id": "bffc633356e44ece"
  },
  {
   "metadata": {
    "ExecuteTime": {
     "end_time": "2025-10-29T22:18:37.504115Z",
     "start_time": "2025-10-29T22:18:37.496109Z"
    }
   },
   "cell_type": "code",
   "source": [
    "def summarize(col):\n",
    "    s = df[col]\n",
    "    return {\"min\": s.min(), \"max\": s.max(), \"mean\": s.mean(), \"std\": s.std(ddof=1), \"n_unique\": s.nunique()}\n",
    "\n",
    "summary = pd.DataFrame({c: summarize(c) for c in [\"alpha_zre\",\"kb_zre\",\"zmean_zre\", \"b0_zre\"]}).T\n",
    "summary\n"
   ],
   "id": "e588b61dc0e32ce3",
   "outputs": [
    {
     "data": {
      "text/plain": [
       "                min       max      mean           std  n_unique\n",
       "alpha_zre  0.123569  0.892581  0.411444  2.247328e-01      19.0\n",
       "kb_zre     0.164918  1.976855  1.192090  5.996471e-01      19.0\n",
       "zmean_zre  7.034849  8.802202  8.042105  5.063991e-01      19.0\n",
       "b0_zre     0.593120  0.593120  0.593120  1.140646e-16       1.0"
      ],
      "text/html": [
       "<div>\n",
       "<style scoped>\n",
       "    .dataframe tbody tr th:only-of-type {\n",
       "        vertical-align: middle;\n",
       "    }\n",
       "\n",
       "    .dataframe tbody tr th {\n",
       "        vertical-align: top;\n",
       "    }\n",
       "\n",
       "    .dataframe thead th {\n",
       "        text-align: right;\n",
       "    }\n",
       "</style>\n",
       "<table border=\"1\" class=\"dataframe\">\n",
       "  <thead>\n",
       "    <tr style=\"text-align: right;\">\n",
       "      <th></th>\n",
       "      <th>min</th>\n",
       "      <th>max</th>\n",
       "      <th>mean</th>\n",
       "      <th>std</th>\n",
       "      <th>n_unique</th>\n",
       "    </tr>\n",
       "  </thead>\n",
       "  <tbody>\n",
       "    <tr>\n",
       "      <th>alpha_zre</th>\n",
       "      <td>0.123569</td>\n",
       "      <td>0.892581</td>\n",
       "      <td>0.411444</td>\n",
       "      <td>2.247328e-01</td>\n",
       "      <td>19.0</td>\n",
       "    </tr>\n",
       "    <tr>\n",
       "      <th>kb_zre</th>\n",
       "      <td>0.164918</td>\n",
       "      <td>1.976855</td>\n",
       "      <td>1.192090</td>\n",
       "      <td>5.996471e-01</td>\n",
       "      <td>19.0</td>\n",
       "    </tr>\n",
       "    <tr>\n",
       "      <th>zmean_zre</th>\n",
       "      <td>7.034849</td>\n",
       "      <td>8.802202</td>\n",
       "      <td>8.042105</td>\n",
       "      <td>5.063991e-01</td>\n",
       "      <td>19.0</td>\n",
       "    </tr>\n",
       "    <tr>\n",
       "      <th>b0_zre</th>\n",
       "      <td>0.593120</td>\n",
       "      <td>0.593120</td>\n",
       "      <td>0.593120</td>\n",
       "      <td>1.140646e-16</td>\n",
       "      <td>1.0</td>\n",
       "    </tr>\n",
       "  </tbody>\n",
       "</table>\n",
       "</div>"
      ]
     },
     "execution_count": 121,
     "metadata": {},
     "output_type": "execute_result"
    }
   ],
   "execution_count": 121
  },
  {
   "metadata": {},
   "cell_type": "markdown",
   "source": [
    "### Histogram of Parameter Space\n",
    "- Histograms should be flat for uniform coverage."
   ],
   "id": "f24e4d5c61f3c411"
  },
  {
   "metadata": {
    "ExecuteTime": {
     "end_time": "2025-10-29T22:18:37.892154Z",
     "start_time": "2025-10-29T22:18:37.638165Z"
    }
   },
   "cell_type": "code",
   "source": [
    "plt.figure(figsize=(12,3))\n",
    "for i, col in enumerate([\"alpha_zre\",\"kb_zre\",\"zmean_zre\", \"b0_zre\"], 1):\n",
    "    plt.subplot(1,4,i)\n",
    "    plt.hist(df[col], bins=20)\n",
    "    plt.title(col)\n",
    "plt.tight_layout()\n",
    "plt.show()\n",
    "\n",
    "plt.show()\n"
   ],
   "id": "1e2a6be07311eed0",
   "outputs": [
    {
     "data": {
      "text/plain": [
       "<Figure size 1200x300 with 4 Axes>"
      ],
      "image/png": "[encoded data removed]"
     },
     "metadata": {},
     "output_type": "display_data",
     "jetTransient": {
      "display_id": null
     }
    }
   ],
   "execution_count": 122
  },
  {
   "metadata": {},
   "cell_type": "markdown",
   "source": "## Spearman Correlation (Independence)",
   "id": "77fd49965706d06c"
  },
  {
   "metadata": {
    "ExecuteTime": {
     "end_time": "2025-10-29T22:18:37.904456Z",
     "start_time": "2025-10-29T22:18:37.898172Z"
    }
   },
   "cell_type": "code",
   "source": "df[[\"alpha_zre\",\"kb_zre\",\"zmean_zre\"]].corr(method=\"spearman\")\n",
   "id": "ef76919d82d83e76",
   "outputs": [
    {
     "data": {
      "text/plain": [
       "           alpha_zre    kb_zre  zmean_zre\n",
       "alpha_zre   1.000000 -0.219298  -0.203509\n",
       "kb_zre     -0.219298  1.000000   0.100000\n",
       "zmean_zre  -0.203509  0.100000   1.000000"
      ],
      "text/html": [
       "<div>\n",
       "<style scoped>\n",
       "    .dataframe tbody tr th:only-of-type {\n",
       "        vertical-align: middle;\n",
       "    }\n",
       "\n",
       "    .dataframe tbody tr th {\n",
       "        vertical-align: top;\n",
       "    }\n",
       "\n",
       "    .dataframe thead th {\n",
       "        text-align: right;\n",
       "    }\n",
       "</style>\n",
       "<table border=\"1\" class=\"dataframe\">\n",
       "  <thead>\n",
       "    <tr style=\"text-align: right;\">\n",
       "      <th></th>\n",
       "      <th>alpha_zre</th>\n",
       "      <th>kb_zre</th>\n",
       "      <th>zmean_zre</th>\n",
       "    </tr>\n",
       "  </thead>\n",
       "  <tbody>\n",
       "    <tr>\n",
       "      <th>alpha_zre</th>\n",
       "      <td>1.000000</td>\n",
       "      <td>-0.219298</td>\n",
       "      <td>-0.203509</td>\n",
       "    </tr>\n",
       "    <tr>\n",
       "      <th>kb_zre</th>\n",
       "      <td>-0.219298</td>\n",
       "      <td>1.000000</td>\n",
       "      <td>0.100000</td>\n",
       "    </tr>\n",
       "    <tr>\n",
       "      <th>zmean_zre</th>\n",
       "      <td>-0.203509</td>\n",
       "      <td>0.100000</td>\n",
       "      <td>1.000000</td>\n",
       "    </tr>\n",
       "  </tbody>\n",
       "</table>\n",
       "</div>"
      ]
     },
     "execution_count": 123,
     "metadata": {},
     "output_type": "execute_result"
    }
   ],
   "execution_count": 123
  },
  {
   "metadata": {},
   "cell_type": "markdown",
   "source": "## Coverage of Parameter Space",
   "id": "e4a5d24726847dee"
  },
  {
   "metadata": {
    "ExecuteTime": {
     "end_time": "2025-10-29T22:18:37.948553Z",
     "start_time": "2025-10-29T22:18:37.944706Z"
    }
   },
   "cell_type": "code",
   "source": [
    "X = df[[\"alpha_zre\",\"kb_zre\",\"zmean_zre\"]].to_numpy()\n",
    "# Normalize to [0,1]\n",
    "Xn = (X - X.min(axis=0)) / (X.max(axis=0) - X.min(axis=0))\n",
    "D = pdist(Xn)\n",
    "\n",
    "print(f\"Min Pairwise Distance: {np.min(D):.3f}\")\n",
    "print(f\"Median Pairwise Distance: {np.median(D):.3f}\")\n"
   ],
   "id": "96cdc101331e5e65",
   "outputs": [
    {
     "name": "stdout",
     "output_type": "stream",
     "text": [
      "Min Pairwise Distance: 0.077\n",
      "Median Pairwise Distance: 0.707\n"
     ]
    }
   ],
   "execution_count": 124
  },
  {
   "metadata": {},
   "cell_type": "markdown",
   "source": "## Close Files",
   "id": "867dd6fde9035f19"
  },
  {
   "cell_type": "code",
   "id": "9f588058-b3a1-443b-a759-fdcfbc8c9be0",
   "metadata": {
    "ExecuteTime": {
     "end_time": "2025-10-29T22:18:38.015510Z",
     "start_time": "2025-10-29T22:18:38.012512Z"
    }
   },
   "source": "h5f.close()",
   "outputs": [],
   "execution_count": 125
  }
 ],
 "metadata": {
  "kernelspec": {
   "display_name": "base",
   "language": "python",
   "name": "python3"
  },
  "language_info": {
   "codemirror_mode": {
    "name": "ipython",
    "version": 3
   },
   "file_extension": ".py",
   "mimetype": "text/x-python",
   "name": "python",
   "nbconvert_exporter": "python",
   "pygments_lexer": "ipython3",
   "version": "3.11.5"
  }
 },
 "nbformat": 4,
 "nbformat_minor": 5
}
